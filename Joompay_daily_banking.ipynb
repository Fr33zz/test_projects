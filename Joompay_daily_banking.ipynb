{
  "nbformat": 4,
  "nbformat_minor": 0,
  "metadata": {
    "colab": {
      "name": "Joompay daily banking.ipynb",
      "provenance": [],
      "collapsed_sections": [],
      "authorship_tag": "ABX9TyMdMQ4wNj0m98jeTaMwoyAR",
      "include_colab_link": true
    },
    "kernelspec": {
      "name": "python3",
      "display_name": "Python 3"
    },
    "language_info": {
      "name": "python"
    }
  },
  "cells": [
    {
      "cell_type": "markdown",
      "metadata": {
        "id": "view-in-github",
        "colab_type": "text"
      },
      "source": [
        "<a href=\"https://colab.research.google.com/github/Fr33zz/test_projects/blob/main/Joompay_daily_banking.ipynb\" target=\"_parent\"><img src=\"https://colab.research.google.com/assets/colab-badge.svg\" alt=\"Open In Colab\"/></a>"
      ]
    },
    {
      "cell_type": "markdown",
      "source": [
        "### Условия\n",
        "\n",
        "- Вы владелец магазина. \n",
        "- Ваша задача максимизировать прибыль. \n",
        "- У вас есть сеть магазинов и данные продаж за день (количество продаж не имеет ярко выраженной сезонности или зависимости от дня недели). \n",
        "- К вашим расходам относится покупка товаров и арендная плата за магазины. \n",
        "- К доходам - цены от продажи товаров. \n",
        "\n",
        "Какие вы можете сделать гипотезы исходя из приведенных данных. Каковы ваши рекомендации?\n",
        "\n",
        "Подкрепите рекомендации дэшбордом с таблицами или графиками, из которых понятно, как вы получили эти выводы. \n",
        "\n",
        "! Выложите документ/документы с тестовым открытыми на просмотр по ссылке"
      ],
      "metadata": {
        "id": "rT8ZkOPWxPB1"
      }
    },
    {
      "cell_type": "code",
      "execution_count": 2,
      "metadata": {
        "id": "WNUuy696xKj8"
      },
      "outputs": [],
      "source": [
        "import gspread\n",
        "from google.auth import default\n",
        "creds, _ = default()\n",
        "\n",
        "import numpy as np\n",
        "import pandas as pd\n",
        "import matplotlib.pyplot as plt\n",
        "%matplotlib inline\n",
        "import seaborn as sns"
      ]
    },
    {
      "cell_type": "code",
      "source": [
        "# достаем данные из таблицы \n",
        "# (не стал заморачиваться со ссылками и просто скачал)\n",
        "\n",
        "gc = gspread.authorize(creds)\n",
        "sp = gc.open('Joompay daily banking')\n",
        "\n",
        "trn = pd.DataFrame(sp.get_worksheet(1).get_all_values())\n",
        "trn = trn.set_axis(trn.iloc[0].values, axis='columns')\n",
        "trn = trn.iloc[1:].astype(int)\n",
        "\n",
        "gds = pd.DataFrame(sp.get_worksheet(2).get_all_values())\n",
        "gds = gds.set_axis(gds.iloc[0].values, axis='columns')\n",
        "gds = gds.iloc[1:].astype(int)\n",
        "\n",
        "mag = pd.DataFrame(sp.get_worksheet(3).get_all_values())\n",
        "mag = mag.set_axis(mag.iloc[0].values, axis='columns')\n",
        "mag = mag.iloc[1:].astype(int)"
      ],
      "metadata": {
        "id": "MqW_i3lvxgUZ",
        "colab": {
          "base_uri": "https://localhost:8080/",
          "height": 397
        },
        "outputId": "8c19153a-9fc9-4a92-aa5a-1c212e78f691"
      },
      "execution_count": 4,
      "outputs": [
        {
          "output_type": "error",
          "ename": "RefreshError",
          "evalue": "ignored",
          "traceback": [
            "\u001b[0;31m---------------------------------------------------------------------------\u001b[0m",
            "\u001b[0;31mTransportError\u001b[0m                            Traceback (most recent call last)",
            "\u001b[0;32m/usr/local/lib/python3.7/dist-packages/google/auth/compute_engine/credentials.py\u001b[0m in \u001b[0;36mrefresh\u001b[0;34m(self, request)\u001b[0m\n\u001b[1;32m    110\u001b[0m         \u001b[0;32mtry\u001b[0m\u001b[0;34m:\u001b[0m\u001b[0;34m\u001b[0m\u001b[0;34m\u001b[0m\u001b[0m\n\u001b[0;32m--> 111\u001b[0;31m             \u001b[0mself\u001b[0m\u001b[0;34m.\u001b[0m\u001b[0m_retrieve_info\u001b[0m\u001b[0;34m(\u001b[0m\u001b[0mrequest\u001b[0m\u001b[0;34m)\u001b[0m\u001b[0;34m\u001b[0m\u001b[0;34m\u001b[0m\u001b[0m\n\u001b[0m\u001b[1;32m    112\u001b[0m             self.token, self.expiry = _metadata.get_service_account_token(\n",
            "\u001b[0;32m/usr/local/lib/python3.7/dist-packages/google/auth/compute_engine/credentials.py\u001b[0m in \u001b[0;36m_retrieve_info\u001b[0;34m(self, request)\u001b[0m\n\u001b[1;32m     87\u001b[0m         info = _metadata.get_service_account_info(\n\u001b[0;32m---> 88\u001b[0;31m             \u001b[0mrequest\u001b[0m\u001b[0;34m,\u001b[0m \u001b[0mservice_account\u001b[0m\u001b[0;34m=\u001b[0m\u001b[0mself\u001b[0m\u001b[0;34m.\u001b[0m\u001b[0m_service_account_email\u001b[0m\u001b[0;34m\u001b[0m\u001b[0;34m\u001b[0m\u001b[0m\n\u001b[0m\u001b[1;32m     89\u001b[0m         )\n",
            "\u001b[0;32m/usr/local/lib/python3.7/dist-packages/google/auth/compute_engine/_metadata.py\u001b[0m in \u001b[0;36mget_service_account_info\u001b[0;34m(request, service_account)\u001b[0m\n\u001b[1;32m    233\u001b[0m     \u001b[0;31m# for more on the use of 'recursive'.\u001b[0m\u001b[0;34m\u001b[0m\u001b[0;34m\u001b[0m\u001b[0;34m\u001b[0m\u001b[0m\n\u001b[0;32m--> 234\u001b[0;31m     \u001b[0;32mreturn\u001b[0m \u001b[0mget\u001b[0m\u001b[0;34m(\u001b[0m\u001b[0mrequest\u001b[0m\u001b[0;34m,\u001b[0m \u001b[0mpath\u001b[0m\u001b[0;34m,\u001b[0m \u001b[0mparams\u001b[0m\u001b[0;34m=\u001b[0m\u001b[0;34m{\u001b[0m\u001b[0;34m\"recursive\"\u001b[0m\u001b[0;34m:\u001b[0m \u001b[0;34m\"true\"\u001b[0m\u001b[0;34m}\u001b[0m\u001b[0;34m)\u001b[0m\u001b[0;34m\u001b[0m\u001b[0;34m\u001b[0m\u001b[0m\n\u001b[0m\u001b[1;32m    235\u001b[0m \u001b[0;34m\u001b[0m\u001b[0m\n",
            "\u001b[0;32m/usr/local/lib/python3.7/dist-packages/google/auth/compute_engine/_metadata.py\u001b[0m in \u001b[0;36mget\u001b[0;34m(request, path, root, params, recursive, retry_count)\u001b[0m\n\u001b[1;32m    186\u001b[0m             ),\n\u001b[0;32m--> 187\u001b[0;31m             \u001b[0mresponse\u001b[0m\u001b[0;34m,\u001b[0m\u001b[0;34m\u001b[0m\u001b[0;34m\u001b[0m\u001b[0m\n\u001b[0m\u001b[1;32m    188\u001b[0m         )\n",
            "\u001b[0;31mTransportError\u001b[0m: (\"Failed to retrieve http://metadata.google.internal/computeMetadata/v1/instance/service-accounts/default/?recursive=true from the Google Compute Enginemetadata service. Status: 404 Response:\\nb''\", <google.auth.transport.requests._Response object at 0x7fc637d4ff90>)",
            "\nThe above exception was the direct cause of the following exception:\n",
            "\u001b[0;31mRefreshError\u001b[0m                              Traceback (most recent call last)",
            "\u001b[0;32m<ipython-input-4-dbea976d5141>\u001b[0m in \u001b[0;36m<module>\u001b[0;34m()\u001b[0m\n\u001b[1;32m      3\u001b[0m \u001b[0;34m\u001b[0m\u001b[0m\n\u001b[1;32m      4\u001b[0m \u001b[0mgc\u001b[0m \u001b[0;34m=\u001b[0m \u001b[0mgspread\u001b[0m\u001b[0;34m.\u001b[0m\u001b[0mauthorize\u001b[0m\u001b[0;34m(\u001b[0m\u001b[0mcreds\u001b[0m\u001b[0;34m)\u001b[0m\u001b[0;34m\u001b[0m\u001b[0;34m\u001b[0m\u001b[0m\n\u001b[0;32m----> 5\u001b[0;31m \u001b[0msp\u001b[0m \u001b[0;34m=\u001b[0m \u001b[0mgc\u001b[0m\u001b[0;34m.\u001b[0m\u001b[0mopen\u001b[0m\u001b[0;34m(\u001b[0m\u001b[0;34m'Joompay daily banking'\u001b[0m\u001b[0;34m)\u001b[0m\u001b[0;34m\u001b[0m\u001b[0;34m\u001b[0m\u001b[0m\n\u001b[0m\u001b[1;32m      6\u001b[0m \u001b[0;34m\u001b[0m\u001b[0m\n\u001b[1;32m      7\u001b[0m \u001b[0mtrn\u001b[0m \u001b[0;34m=\u001b[0m \u001b[0mpd\u001b[0m\u001b[0;34m.\u001b[0m\u001b[0mDataFrame\u001b[0m\u001b[0;34m(\u001b[0m\u001b[0msp\u001b[0m\u001b[0;34m.\u001b[0m\u001b[0mget_worksheet\u001b[0m\u001b[0;34m(\u001b[0m\u001b[0;36m1\u001b[0m\u001b[0;34m)\u001b[0m\u001b[0;34m.\u001b[0m\u001b[0mget_all_values\u001b[0m\u001b[0;34m(\u001b[0m\u001b[0;34m)\u001b[0m\u001b[0;34m)\u001b[0m\u001b[0;34m\u001b[0m\u001b[0;34m\u001b[0m\u001b[0m\n",
            "\u001b[0;32m/usr/local/lib/python3.7/dist-packages/gspread/client.py\u001b[0m in \u001b[0;36mopen\u001b[0;34m(self, title)\u001b[0m\n\u001b[1;32m    120\u001b[0m             properties = finditem(\n\u001b[1;32m    121\u001b[0m                 \u001b[0;32mlambda\u001b[0m \u001b[0mx\u001b[0m\u001b[0;34m:\u001b[0m \u001b[0mx\u001b[0m\u001b[0;34m[\u001b[0m\u001b[0;34m'name'\u001b[0m\u001b[0;34m]\u001b[0m \u001b[0;34m==\u001b[0m \u001b[0mtitle\u001b[0m\u001b[0;34m,\u001b[0m\u001b[0;34m\u001b[0m\u001b[0;34m\u001b[0m\u001b[0m\n\u001b[0;32m--> 122\u001b[0;31m                 \u001b[0mself\u001b[0m\u001b[0;34m.\u001b[0m\u001b[0mlist_spreadsheet_files\u001b[0m\u001b[0;34m(\u001b[0m\u001b[0mtitle\u001b[0m\u001b[0;34m)\u001b[0m\u001b[0;34m\u001b[0m\u001b[0;34m\u001b[0m\u001b[0m\n\u001b[0m\u001b[1;32m    123\u001b[0m             )\n\u001b[1;32m    124\u001b[0m \u001b[0;34m\u001b[0m\u001b[0m\n",
            "\u001b[0;32m/usr/local/lib/python3.7/dist-packages/gspread/client.py\u001b[0m in \u001b[0;36mlist_spreadsheet_files\u001b[0;34m(self, title)\u001b[0m\n\u001b[1;32m     93\u001b[0m                 \u001b[0mparams\u001b[0m\u001b[0;34m[\u001b[0m\u001b[0;34m'pageToken'\u001b[0m\u001b[0;34m]\u001b[0m \u001b[0;34m=\u001b[0m \u001b[0mpage_token\u001b[0m\u001b[0;34m\u001b[0m\u001b[0;34m\u001b[0m\u001b[0m\n\u001b[1;32m     94\u001b[0m \u001b[0;34m\u001b[0m\u001b[0m\n\u001b[0;32m---> 95\u001b[0;31m             \u001b[0mres\u001b[0m \u001b[0;34m=\u001b[0m \u001b[0mself\u001b[0m\u001b[0;34m.\u001b[0m\u001b[0mrequest\u001b[0m\u001b[0;34m(\u001b[0m\u001b[0;34m'get'\u001b[0m\u001b[0;34m,\u001b[0m \u001b[0murl\u001b[0m\u001b[0;34m,\u001b[0m \u001b[0mparams\u001b[0m\u001b[0;34m=\u001b[0m\u001b[0mparams\u001b[0m\u001b[0;34m)\u001b[0m\u001b[0;34m.\u001b[0m\u001b[0mjson\u001b[0m\u001b[0;34m(\u001b[0m\u001b[0;34m)\u001b[0m\u001b[0;34m\u001b[0m\u001b[0;34m\u001b[0m\u001b[0m\n\u001b[0m\u001b[1;32m     96\u001b[0m             \u001b[0mfiles\u001b[0m\u001b[0;34m.\u001b[0m\u001b[0mextend\u001b[0m\u001b[0;34m(\u001b[0m\u001b[0mres\u001b[0m\u001b[0;34m[\u001b[0m\u001b[0;34m'files'\u001b[0m\u001b[0;34m]\u001b[0m\u001b[0;34m)\u001b[0m\u001b[0;34m\u001b[0m\u001b[0;34m\u001b[0m\u001b[0m\n\u001b[1;32m     97\u001b[0m             \u001b[0mpage_token\u001b[0m \u001b[0;34m=\u001b[0m \u001b[0mres\u001b[0m\u001b[0;34m.\u001b[0m\u001b[0mget\u001b[0m\u001b[0;34m(\u001b[0m\u001b[0;34m'nextPageToken'\u001b[0m\u001b[0;34m,\u001b[0m \u001b[0;32mNone\u001b[0m\u001b[0;34m)\u001b[0m\u001b[0;34m\u001b[0m\u001b[0;34m\u001b[0m\u001b[0m\n",
            "\u001b[0;32m/usr/local/lib/python3.7/dist-packages/gspread/client.py\u001b[0m in \u001b[0;36mrequest\u001b[0;34m(self, method, endpoint, params, data, json, files, headers)\u001b[0m\n\u001b[1;32m     65\u001b[0m             \u001b[0mdata\u001b[0m\u001b[0;34m=\u001b[0m\u001b[0mdata\u001b[0m\u001b[0;34m,\u001b[0m\u001b[0;34m\u001b[0m\u001b[0;34m\u001b[0m\u001b[0m\n\u001b[1;32m     66\u001b[0m             \u001b[0mfiles\u001b[0m\u001b[0;34m=\u001b[0m\u001b[0mfiles\u001b[0m\u001b[0;34m,\u001b[0m\u001b[0;34m\u001b[0m\u001b[0;34m\u001b[0m\u001b[0m\n\u001b[0;32m---> 67\u001b[0;31m             \u001b[0mheaders\u001b[0m\u001b[0;34m=\u001b[0m\u001b[0mheaders\u001b[0m\u001b[0;34m\u001b[0m\u001b[0;34m\u001b[0m\u001b[0m\n\u001b[0m\u001b[1;32m     68\u001b[0m         )\n\u001b[1;32m     69\u001b[0m \u001b[0;34m\u001b[0m\u001b[0m\n",
            "\u001b[0;32m/usr/local/lib/python3.7/dist-packages/requests/sessions.py\u001b[0m in \u001b[0;36mget\u001b[0;34m(self, url, **kwargs)\u001b[0m\n\u001b[1;32m    541\u001b[0m \u001b[0;34m\u001b[0m\u001b[0m\n\u001b[1;32m    542\u001b[0m         \u001b[0mkwargs\u001b[0m\u001b[0;34m.\u001b[0m\u001b[0msetdefault\u001b[0m\u001b[0;34m(\u001b[0m\u001b[0;34m'allow_redirects'\u001b[0m\u001b[0;34m,\u001b[0m \u001b[0;32mTrue\u001b[0m\u001b[0;34m)\u001b[0m\u001b[0;34m\u001b[0m\u001b[0;34m\u001b[0m\u001b[0m\n\u001b[0;32m--> 543\u001b[0;31m         \u001b[0;32mreturn\u001b[0m \u001b[0mself\u001b[0m\u001b[0;34m.\u001b[0m\u001b[0mrequest\u001b[0m\u001b[0;34m(\u001b[0m\u001b[0;34m'GET'\u001b[0m\u001b[0;34m,\u001b[0m \u001b[0murl\u001b[0m\u001b[0;34m,\u001b[0m \u001b[0;34m**\u001b[0m\u001b[0mkwargs\u001b[0m\u001b[0;34m)\u001b[0m\u001b[0;34m\u001b[0m\u001b[0;34m\u001b[0m\u001b[0m\n\u001b[0m\u001b[1;32m    544\u001b[0m \u001b[0;34m\u001b[0m\u001b[0m\n\u001b[1;32m    545\u001b[0m     \u001b[0;32mdef\u001b[0m \u001b[0moptions\u001b[0m\u001b[0;34m(\u001b[0m\u001b[0mself\u001b[0m\u001b[0;34m,\u001b[0m \u001b[0murl\u001b[0m\u001b[0;34m,\u001b[0m \u001b[0;34m**\u001b[0m\u001b[0mkwargs\u001b[0m\u001b[0;34m)\u001b[0m\u001b[0;34m:\u001b[0m\u001b[0;34m\u001b[0m\u001b[0;34m\u001b[0m\u001b[0m\n",
            "\u001b[0;32m/usr/local/lib/python3.7/dist-packages/google/auth/transport/requests.py\u001b[0m in \u001b[0;36mrequest\u001b[0;34m(self, method, url, data, headers, max_allowed_time, timeout, **kwargs)\u001b[0m\n\u001b[1;32m    474\u001b[0m \u001b[0;34m\u001b[0m\u001b[0m\n\u001b[1;32m    475\u001b[0m         \u001b[0;32mwith\u001b[0m \u001b[0mTimeoutGuard\u001b[0m\u001b[0;34m(\u001b[0m\u001b[0mremaining_time\u001b[0m\u001b[0;34m)\u001b[0m \u001b[0;32mas\u001b[0m \u001b[0mguard\u001b[0m\u001b[0;34m:\u001b[0m\u001b[0;34m\u001b[0m\u001b[0;34m\u001b[0m\u001b[0m\n\u001b[0;32m--> 476\u001b[0;31m             \u001b[0mself\u001b[0m\u001b[0;34m.\u001b[0m\u001b[0mcredentials\u001b[0m\u001b[0;34m.\u001b[0m\u001b[0mbefore_request\u001b[0m\u001b[0;34m(\u001b[0m\u001b[0mauth_request\u001b[0m\u001b[0;34m,\u001b[0m \u001b[0mmethod\u001b[0m\u001b[0;34m,\u001b[0m \u001b[0murl\u001b[0m\u001b[0;34m,\u001b[0m \u001b[0mrequest_headers\u001b[0m\u001b[0;34m)\u001b[0m\u001b[0;34m\u001b[0m\u001b[0;34m\u001b[0m\u001b[0m\n\u001b[0m\u001b[1;32m    477\u001b[0m         \u001b[0mremaining_time\u001b[0m \u001b[0;34m=\u001b[0m \u001b[0mguard\u001b[0m\u001b[0;34m.\u001b[0m\u001b[0mremaining_timeout\u001b[0m\u001b[0;34m\u001b[0m\u001b[0;34m\u001b[0m\u001b[0m\n\u001b[1;32m    478\u001b[0m \u001b[0;34m\u001b[0m\u001b[0m\n",
            "\u001b[0;32m/usr/local/lib/python3.7/dist-packages/google/auth/credentials.py\u001b[0m in \u001b[0;36mbefore_request\u001b[0;34m(self, request, method, url, headers)\u001b[0m\n\u001b[1;32m    131\u001b[0m         \u001b[0;31m# the http request.)\u001b[0m\u001b[0;34m\u001b[0m\u001b[0;34m\u001b[0m\u001b[0;34m\u001b[0m\u001b[0m\n\u001b[1;32m    132\u001b[0m         \u001b[0;32mif\u001b[0m \u001b[0;32mnot\u001b[0m \u001b[0mself\u001b[0m\u001b[0;34m.\u001b[0m\u001b[0mvalid\u001b[0m\u001b[0;34m:\u001b[0m\u001b[0;34m\u001b[0m\u001b[0;34m\u001b[0m\u001b[0m\n\u001b[0;32m--> 133\u001b[0;31m             \u001b[0mself\u001b[0m\u001b[0;34m.\u001b[0m\u001b[0mrefresh\u001b[0m\u001b[0;34m(\u001b[0m\u001b[0mrequest\u001b[0m\u001b[0;34m)\u001b[0m\u001b[0;34m\u001b[0m\u001b[0;34m\u001b[0m\u001b[0m\n\u001b[0m\u001b[1;32m    134\u001b[0m         \u001b[0mself\u001b[0m\u001b[0;34m.\u001b[0m\u001b[0mapply\u001b[0m\u001b[0;34m(\u001b[0m\u001b[0mheaders\u001b[0m\u001b[0;34m)\u001b[0m\u001b[0;34m\u001b[0m\u001b[0;34m\u001b[0m\u001b[0m\n\u001b[1;32m    135\u001b[0m \u001b[0;34m\u001b[0m\u001b[0m\n",
            "\u001b[0;32m/usr/local/lib/python3.7/dist-packages/google/auth/compute_engine/credentials.py\u001b[0m in \u001b[0;36mrefresh\u001b[0;34m(self, request)\u001b[0m\n\u001b[1;32m    115\u001b[0m         \u001b[0;32mexcept\u001b[0m \u001b[0mexceptions\u001b[0m\u001b[0;34m.\u001b[0m\u001b[0mTransportError\u001b[0m \u001b[0;32mas\u001b[0m \u001b[0mcaught_exc\u001b[0m\u001b[0;34m:\u001b[0m\u001b[0;34m\u001b[0m\u001b[0;34m\u001b[0m\u001b[0m\n\u001b[1;32m    116\u001b[0m             \u001b[0mnew_exc\u001b[0m \u001b[0;34m=\u001b[0m \u001b[0mexceptions\u001b[0m\u001b[0;34m.\u001b[0m\u001b[0mRefreshError\u001b[0m\u001b[0;34m(\u001b[0m\u001b[0mcaught_exc\u001b[0m\u001b[0;34m)\u001b[0m\u001b[0;34m\u001b[0m\u001b[0;34m\u001b[0m\u001b[0m\n\u001b[0;32m--> 117\u001b[0;31m             \u001b[0msix\u001b[0m\u001b[0;34m.\u001b[0m\u001b[0mraise_from\u001b[0m\u001b[0;34m(\u001b[0m\u001b[0mnew_exc\u001b[0m\u001b[0;34m,\u001b[0m \u001b[0mcaught_exc\u001b[0m\u001b[0;34m)\u001b[0m\u001b[0;34m\u001b[0m\u001b[0;34m\u001b[0m\u001b[0m\n\u001b[0m\u001b[1;32m    118\u001b[0m \u001b[0;34m\u001b[0m\u001b[0m\n\u001b[1;32m    119\u001b[0m     \u001b[0;34m@\u001b[0m\u001b[0mproperty\u001b[0m\u001b[0;34m\u001b[0m\u001b[0;34m\u001b[0m\u001b[0m\n",
            "\u001b[0;32m/usr/local/lib/python3.7/dist-packages/six.py\u001b[0m in \u001b[0;36mraise_from\u001b[0;34m(value, from_value)\u001b[0m\n",
            "\u001b[0;31mRefreshError\u001b[0m: (\"Failed to retrieve http://metadata.google.internal/computeMetadata/v1/instance/service-accounts/default/?recursive=true from the Google Compute Enginemetadata service. Status: 404 Response:\\nb''\", <google.auth.transport.requests._Response object at 0x7fc637d4ff90>)"
          ]
        }
      ]
    },
    {
      "cell_type": "code",
      "source": [
        "# смотрим на таблицу с транзакциями\n",
        "# меняем названия для удобства\n",
        "# подсчитываем индексы для поиска совпадений пар и троек\n",
        "\n",
        "trn.columns = ['id', 'client_id', 'gds_id', 'count', 'mag_id']\n",
        "trn.head(10)"
      ],
      "metadata": {
        "id": "DJDzzYHuxh7k"
      },
      "execution_count": null,
      "outputs": []
    },
    {
      "cell_type": "code",
      "source": [
        "# смотрим на таблицу с товарами (goods)\n",
        "# сразу считаю прибыль на товар и маржу\n",
        "\n",
        "gds.columns = ['gds_id', 'price', 'cost']\n",
        "gds['profit_'] = gds['price'] - gds['cost']\n",
        "gds['margin'] = gds['profit_'] / gds['cost']\n",
        "gds"
      ],
      "metadata": {
        "id": "6yShE7-V2KQd"
      },
      "execution_count": null,
      "outputs": []
    },
    {
      "cell_type": "code",
      "source": [
        "# смотрим на таблицу с магазинами\n",
        "mag.columns = ['mag_id', 'rent']\n",
        "mag"
      ],
      "metadata": {
        "id": "B3LXQa2u5ef8"
      },
      "execution_count": null,
      "outputs": []
    },
    {
      "cell_type": "code",
      "source": [
        "# делаю join таблиц в одну\n",
        "d = pd.merge(left = trn, right = gds, how = 'left', on= 'gds_id')\n",
        "d = pd.merge(left =   d, right = mag, how = 'left', on= 'mag_id')\n",
        "d['revenue'] = d['price'] * d['count']\n",
        "d['expense'] = d['cost'] * d['count']\n",
        "d"
      ],
      "metadata": {
        "id": "x80_EkdYxs6k"
      },
      "execution_count": null,
      "outputs": []
    },
    {
      "cell_type": "markdown",
      "source": [
        "###На этот бизнес можно смотреть с 3 разных сторон\n",
        "\n",
        "- **управление магазинами (сетевик)**\n",
        " - рост числа магазинов\n",
        " - увеличение прибыли\n",
        " - посмотреть методики от сетей\n",
        " - подумать о продуктовых, о е-коме (доставка), о питании\n",
        "- **дистрибуция товаров**\n",
        " - оптимизация затрат на аренду\n",
        " - добавление маржинальных и уменьшение немаржинальных\n",
        " - фишки ритейла (бакалея и ко)\n",
        "- **управление клиентской базой (e-com)**\n",
        " - привлечение новых платящих клиентов\n",
        " - повышение чека или числа покупок текущих клиентов\n",
        " - другие способы монетизации аудитории\n",
        "\n",
        "####**вопросы на которые далее интересно получить ответы**\n",
        "\n",
        "- [ ] прибыльность продуктов с учетом аренды\n",
        "- [ ] какова клиентская база\n",
        "- [ ] есть ли постоянные клиенты\n",
        "- [ ] есть ли любимые товары\n",
        "- [ ] есть ли пересечения базы у магазинов (находятся ли они рядом)\n",
        "- [ ] какой допустимый CAC пользователя\n",
        "- [ ] сколько уникальных клиентов у магазина\n",
        "- [ ] какие магазины стоит подключать\n",
        "- [ ] какое число уникальных комбинаций клиент-товар-магазин, есть ли повторы\n",
        "- [ ] можно ли перебрасывать аудиторию из одних магазинов в другие\n",
        "- [ ] какую модель можно здесь предложить"
      ],
      "metadata": {
        "id": "YOCLbs016Rl1"
      }
    },
    {
      "cell_type": "code",
      "source": [
        "# Посчитаем экономику магазина\n",
        "\n",
        "mag = \\\n",
        "pd.merge(left = mag,\n",
        "         right = d.groupby('mag_id')\\\n",
        "                  .agg({'revenue':'sum', 'expense':'sum', 'count':'sum'})\\\n",
        "                  .reset_index(),\n",
        "         how = 'left', on = 'mag_id')\n",
        "\n",
        "# pgs = per good sold\n",
        "\n",
        "mag['profit'] = mag['revenue'] - mag['expense'] - mag['rent']\n",
        "mag['mag_margin'] = mag['profit'] / (mag['expense'] + mag['rent'])\n",
        "mag['profit_pgs'] = mag['profit'] / mag['count']\n",
        "mag['expense_pgs'] = mag['expense'] / mag['count']\n",
        "mag['rent_pgs'] = mag['rent'] / mag['count']\n",
        "mag"
      ],
      "metadata": {
        "id": "pCt_u9359Lh0"
      },
      "execution_count": null,
      "outputs": []
    },
    {
      "cell_type": "markdown",
      "source": [
        "### Гипотезы увеличения прибыли магазинов\n",
        "Интересный факт – второй самый немаржинальный, при этом у него самая высокая прибыль на единицу проданных товаров\n",
        "- подключить больше магазинов 2 типа как самых прибыльных\n",
        "\n",
        "явно виден гэп между маржой и профитом в 1 и 2 магазинах\n",
        "- завезти в 1 магазин больше товаров как во 2\n",
        "\n",
        "видно что по 2 и 3 продают ±одинаково, а оборот оч разный – можно перераспределить товары или продавать больше или повысить средний чек"
      ],
      "metadata": {
        "id": "eC4OKueMatzg"
      }
    },
    {
      "cell_type": "code",
      "source": [
        "# Посчитаем экономику каждого вида товаров\n",
        "\n",
        "d['rent_pgs'] = d['mag_id'].map(mag[['mag_id','rent_pgs']].set_index('mag_id').to_dict()['rent_pgs'])\n",
        "d['rent_exp'] = d['rent_pgs'] * d['count']\n",
        "d['profit_final'] = d['revenue'] - d['expense'] - d['rent_exp']\n",
        "\n",
        "gds = \\\n",
        "pd.merge(left = gds,\n",
        "         right = d.groupby('gds_id')\\\n",
        "                  .agg({'count':'sum', 'rent_pgs':['min','mean','max']})\\\n",
        "                  .reset_index(),\n",
        "         how = 'left', on = 'gds_id'\n",
        ")\n",
        "gds.columns = ['gds_id', 'price','cost', 'profit_', 'margin', 'count', 'rent_min', 'rent_mean', 'rent_max']\n",
        "\n",
        "gds['actual_profit'] = gds['profit_'] - gds['rent_mean']\n",
        "gds['profit_min'] = gds['profit_'] - gds['rent_max']\n",
        "gds['profit_max'] = gds['profit_'] - gds['rent_min']\n",
        "\n",
        "gds"
      ],
      "metadata": {
        "id": "n26GnL0_JaSE"
      },
      "execution_count": null,
      "outputs": []
    },
    {
      "cell_type": "markdown",
      "source": [
        "###Гипотезы увеличения прибыли с товаров\n",
        "- во первых надо точно перевезти все товары первой категории в другой стор, тк сейчас они убыточны\n",
        "- если клиенты двигают за своим товаром в любой магазин, то просто перетасовать товары (решается простая задача оптимизации, даже в случае тысяч магазинов)\n",
        "\n",
        "в нашем случае скорее всего придется ставить задачу в стиле \"у каждого магазина свой пул клиентов, они могут купить вот то и это, надо закупить товар так чтобы оптимизировать прибыль при фиксированном уровне расходов\""
      ],
      "metadata": {
        "id": "3SrrC2A1v4Yp"
      }
    },
    {
      "cell_type": "code",
      "source": [
        "# Посчитаем экономику клиента\n",
        "cln = \\\n",
        "d.groupby('client_id').agg({'gds_id':lambda x: np.unique(x), \n",
        "                            'mag_id':lambda x: np.unique(x), \n",
        "                            'count':'sum',\n",
        "                            'price':['min', 'mean','max'],\n",
        "                            'revenue':'sum',\n",
        "                            'expense':'sum',\n",
        "                            'rent_exp':'sum'})\n",
        "\n",
        "cln.columns = ['gds_id', 'mag_id', 'count', \n",
        "               'price min', 'price mean', 'price max', \n",
        "               'revenue', 'expense', 'rent_exp']\n",
        "\n",
        "cln['profit'] = cln['revenue'] - cln['expense'] - cln['rent_exp']\n",
        "cln"
      ],
      "metadata": {
        "id": "vSC1FUlRxzeE"
      },
      "execution_count": null,
      "outputs": []
    },
    {
      "cell_type": "code",
      "source": [
        ""
      ],
      "metadata": {
        "id": "Ur5L-vUR5hU7"
      },
      "execution_count": null,
      "outputs": []
    },
    {
      "cell_type": "markdown",
      "source": [
        "### Гипотезы по улучшению клиентской базы\n",
        "- закрыть позиции товаров в магазинах в которые приходят не прибыльные клиенты\n",
        "- кластеризовать клиентов по выручке и изучить их опыт, чтобы привлекать больше таких\n",
        "- первый товар перевести в другой магазин (с меньшей рентой)"
      ],
      "metadata": {
        "id": "7F-Z8ELJ5gd5"
      }
    },
    {
      "cell_type": "code",
      "source": [
        "d.groupby(['client_id','gds_id']).agg({'profit_final':'sum'}).unstack().fillna(' ')"
      ],
      "metadata": {
        "id": "RB3KsMdv41MU"
      },
      "execution_count": null,
      "outputs": []
    },
    {
      "cell_type": "code",
      "source": [
        "d.groupby(['client_id','mag_id']).agg({'profit_final':'sum'}).unstack().fillna(' ')"
      ],
      "metadata": {
        "id": "KmnVKEze70Uv"
      },
      "execution_count": null,
      "outputs": []
    },
    {
      "cell_type": "code",
      "source": [
        "d.groupby(['mag_id','gds_id']).agg({'profit_final':'sum'}).unstack().fillna(' ')"
      ],
      "metadata": {
        "id": "k2o73yR_72YX"
      },
      "execution_count": null,
      "outputs": []
    },
    {
      "cell_type": "code",
      "source": [
        ""
      ],
      "metadata": {
        "id": "0509ptlj74Rv"
      },
      "execution_count": null,
      "outputs": []
    }
  ]
}